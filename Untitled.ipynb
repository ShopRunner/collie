{
 "cells": [
  {
   "cell_type": "code",
   "execution_count": 1,
   "id": "9dbbf653-bff7-4ad2-b438-af96c2b15aaa",
   "metadata": {},
   "outputs": [],
   "source": [
    "%reload_ext autoreload\n",
    "%autoreload 2"
   ]
  },
  {
   "cell_type": "code",
   "execution_count": 2,
   "id": "e03192f9-4ab0-4c90-bf45-db098b3d16d1",
   "metadata": {},
   "outputs": [
    {
     "name": "stderr",
     "output_type": "stream",
     "text": [
      "/opt/conda/lib/python3.7/site-packages/pytorch_lightning/metrics/__init__.py:44: LightningDeprecationWarning: `pytorch_lightning.metrics.*` module has been renamed to `torchmetrics.*` and split off to its own package (https://github.com/PyTorchLightning/metrics) since v1.3 and will be removed in v1.5\n",
      "  \"`pytorch_lightning.metrics.*` module has been renamed to `torchmetrics.*` and split off to its own package\"\n"
     ]
    }
   ],
   "source": [
    "from collie.movielens import read_movielens_df\n",
    "from collie.utils import convert_to_implicit\n",
    "\n",
    "\n",
    "# read in explicit MovieLens 100K data\n",
    "df = read_movielens_df()\n",
    "\n",
    "# convert the data to implicit\n",
    "df_imp = convert_to_implicit(df)"
   ]
  },
  {
   "cell_type": "code",
   "execution_count": 3,
   "id": "cf03d887-9ea4-4003-98f5-c79981ba9f02",
   "metadata": {},
   "outputs": [
    {
     "data": {
      "application/vnd.jupyter.widget-view+json": {
       "model_id": "fd33f1b9d0fd46c18fca5bded62d8016",
       "version_major": 2,
       "version_minor": 0
      },
      "text/plain": [
       "  0%|          | 0/942 [00:00<?, ?it/s]"
      ]
     },
     "metadata": {},
     "output_type": "display_data"
    },
    {
     "data": {
      "text/plain": [
       "SequentialInteractions object with 18460 sequences between 942 users and 1674 items, returning 10 negative samples per interaction with sequence length between 2 and 7, and step size 3."
      ]
     },
     "execution_count": 3,
     "metadata": {},
     "output_type": "execute_result"
    }
   ],
   "source": [
    "from collie.interactions import SequentialInteractions\n",
    "\n",
    "\n",
    "interactions = SequentialInteractions(users=df_imp['user_id'],\n",
    "                                      items=df_imp['item_id'],\n",
    "                                      timestamps=df_imp['timestamp'],\n",
    "                                      max_sequence_length=7,\n",
    "                                      min_sequence_length=2,\n",
    "                                      max_time=1210000,  # 2 weeks\n",
    "                                      step_size=3,\n",
    "                                      num_negative_samples=10,\n",
    "                                      allow_missing_ids=True,\n",
    "                                      seed=42)\n",
    "\n",
    "\n",
    "interactions"
   ]
  },
  {
   "cell_type": "code",
   "execution_count": 4,
   "id": "36bca02f-370c-4c75-a053-48e2ce0fb464",
   "metadata": {},
   "outputs": [
    {
     "data": {
      "application/vnd.jupyter.widget-view+json": {
       "model_id": "b0de73a0c7cd489099eba42340a7c481",
       "version_major": 2,
       "version_minor": 0
      },
      "text/plain": [
       "  0%|          | 0/755 [00:00<?, ?it/s]"
      ]
     },
     "metadata": {},
     "output_type": "display_data"
    },
    {
     "data": {
      "application/vnd.jupyter.widget-view+json": {
       "model_id": "4bafd479f01d4278801c875c56b8d924",
       "version_major": 2,
       "version_minor": 0
      },
      "text/plain": [
       "  0%|          | 0/187 [00:00<?, ?it/s]"
      ]
     },
     "metadata": {},
     "output_type": "display_data"
    }
   ],
   "source": [
    "from collie.cross_validation import user_based_sequential_train_test_split\n",
    "\n",
    "\n",
    "train, val = user_based_sequential_train_test_split(interactions=interactions, test_p=0.2, seed=42)"
   ]
  },
  {
   "cell_type": "code",
   "execution_count": 5,
   "id": "39b6d739-b989-4085-b9e4-17bc04ad9677",
   "metadata": {},
   "outputs": [
    {
     "data": {
      "text/plain": [
       "(SequentialInteractions object with 14742 sequences between 755 users and 1674 items, returning 10 negative samples per interaction with sequence length between 2 and 7, and step size 3.,\n",
       " SequentialInteractions object with 3731 sequences between 187 users and 1674 items, returning 10 negative samples per interaction with sequence length between 2 and 7, and step size 3.)"
      ]
     },
     "execution_count": 5,
     "metadata": {},
     "output_type": "execute_result"
    }
   ],
   "source": [
    "train, val"
   ]
  },
  {
   "cell_type": "code",
   "execution_count": 6,
   "id": "ef6ca63b-a7db-4043-a7f8-9c15e8490876",
   "metadata": {},
   "outputs": [
    {
     "data": {
      "text/plain": [
       "SequentialCNNModel(\n",
       "  (item_embeddings): ScaledEmbedding(1675, 10, padding_idx=1674)\n",
       "  (item_biases): ZeroEmbedding(1675, 1, padding_idx=1674)\n",
       "  (cnn_0): Conv2d(10, 10, kernel_size=(3, 1), stride=(1, 1))\n",
       ")"
      ]
     },
     "execution_count": 6,
     "metadata": {},
     "output_type": "execute_result"
    }
   ],
   "source": [
    "from collie.model.sequential_cnn import SequentialCNNModel\n",
    "\n",
    "\n",
    "model = SequentialCNNModel(train=train,\n",
    "                           val=val,\n",
    "                           embedding_dim=10,\n",
    "                           residual_connections=True,\n",
    "                           lr=1e-2,\n",
    "                           bias_lr=1e-1,\n",
    "                           optimizer='adam',\n",
    "                           bias_optimizer='sgd')\n",
    "\n",
    "\n",
    "model"
   ]
  },
  {
   "cell_type": "code",
   "execution_count": 7,
   "id": "2739db62-9f8c-431c-826c-780e96456e87",
   "metadata": {},
   "outputs": [
    {
     "name": "stderr",
     "output_type": "stream",
     "text": [
      "GPU available: False, used: False\n",
      "TPU available: False, using: 0 TPU cores\n"
     ]
    }
   ],
   "source": [
    "from collie.model import CollieTrainer\n",
    "\n",
    "\n",
    "trainer = CollieTrainer(model=model, max_epochs=20, logger=False, checkpoint_callback=False)"
   ]
  },
  {
   "cell_type": "code",
   "execution_count": 8,
   "id": "900ff74a-72f8-40d1-b7f8-3e3a5311d1fd",
   "metadata": {},
   "outputs": [
    {
     "name": "stderr",
     "output_type": "stream",
     "text": [
      "\n",
      "  | Name            | Type            | Params\n",
      "----------------------------------------------------\n",
      "0 | item_embeddings | ScaledEmbedding | 16.8 K\n",
      "1 | item_biases     | ZeroEmbedding   | 1.7 K \n",
      "2 | cnn_0           | Conv2d          | 310   \n",
      "----------------------------------------------------\n",
      "18.7 K    Trainable params\n",
      "0         Non-trainable params\n",
      "18.7 K    Total params\n",
      "0.075     Total estimated model params size (MB)\n"
     ]
    },
    {
     "data": {
      "application/vnd.jupyter.widget-view+json": {
       "model_id": "",
       "version_major": 2,
       "version_minor": 0
      },
      "text/plain": [
       "Validation sanity check: 0it [00:00, ?it/s]"
      ]
     },
     "metadata": {},
     "output_type": "display_data"
    },
    {
     "name": "stderr",
     "output_type": "stream",
     "text": [
      "/opt/conda/lib/python3.7/site-packages/torch/nn/functional.py:1794: UserWarning: nn.functional.tanh is deprecated. Use torch.tanh instead.\n",
      "  warnings.warn(\"nn.functional.tanh is deprecated. Use torch.tanh instead.\")\n"
     ]
    },
    {
     "data": {
      "application/vnd.jupyter.widget-view+json": {
       "model_id": "31b0638e8c564ba9bf7af92f80abc171",
       "version_major": 2,
       "version_minor": 0
      },
      "text/plain": [
       "Training: 0it [00:00, ?it/s]"
      ]
     },
     "metadata": {},
     "output_type": "display_data"
    },
    {
     "data": {
      "application/vnd.jupyter.widget-view+json": {
       "model_id": "",
       "version_major": 2,
       "version_minor": 0
      },
      "text/plain": [
       "Validating: 0it [00:00, ?it/s]"
      ]
     },
     "metadata": {},
     "output_type": "display_data"
    },
    {
     "data": {
      "application/vnd.jupyter.widget-view+json": {
       "model_id": "",
       "version_major": 2,
       "version_minor": 0
      },
      "text/plain": [
       "Validating: 0it [00:00, ?it/s]"
      ]
     },
     "metadata": {},
     "output_type": "display_data"
    },
    {
     "data": {
      "application/vnd.jupyter.widget-view+json": {
       "model_id": "",
       "version_major": 2,
       "version_minor": 0
      },
      "text/plain": [
       "Validating: 0it [00:00, ?it/s]"
      ]
     },
     "metadata": {},
     "output_type": "display_data"
    },
    {
     "data": {
      "application/vnd.jupyter.widget-view+json": {
       "model_id": "",
       "version_major": 2,
       "version_minor": 0
      },
      "text/plain": [
       "Validating: 0it [00:00, ?it/s]"
      ]
     },
     "metadata": {},
     "output_type": "display_data"
    },
    {
     "data": {
      "application/vnd.jupyter.widget-view+json": {
       "model_id": "",
       "version_major": 2,
       "version_minor": 0
      },
      "text/plain": [
       "Validating: 0it [00:00, ?it/s]"
      ]
     },
     "metadata": {},
     "output_type": "display_data"
    },
    {
     "data": {
      "application/vnd.jupyter.widget-view+json": {
       "model_id": "",
       "version_major": 2,
       "version_minor": 0
      },
      "text/plain": [
       "Validating: 0it [00:00, ?it/s]"
      ]
     },
     "metadata": {},
     "output_type": "display_data"
    },
    {
     "data": {
      "application/vnd.jupyter.widget-view+json": {
       "model_id": "",
       "version_major": 2,
       "version_minor": 0
      },
      "text/plain": [
       "Validating: 0it [00:00, ?it/s]"
      ]
     },
     "metadata": {},
     "output_type": "display_data"
    },
    {
     "data": {
      "application/vnd.jupyter.widget-view+json": {
       "model_id": "",
       "version_major": 2,
       "version_minor": 0
      },
      "text/plain": [
       "Validating: 0it [00:00, ?it/s]"
      ]
     },
     "metadata": {},
     "output_type": "display_data"
    },
    {
     "data": {
      "application/vnd.jupyter.widget-view+json": {
       "model_id": "",
       "version_major": 2,
       "version_minor": 0
      },
      "text/plain": [
       "Validating: 0it [00:00, ?it/s]"
      ]
     },
     "metadata": {},
     "output_type": "display_data"
    },
    {
     "name": "stdout",
     "output_type": "stream",
     "text": [
      "Epoch     9: reducing learning rate of group 0 to 1.0000e-03.\n",
      "Epoch     9: reducing learning rate of group 0 to 1.0000e-02.\n"
     ]
    },
    {
     "data": {
      "application/vnd.jupyter.widget-view+json": {
       "model_id": "",
       "version_major": 2,
       "version_minor": 0
      },
      "text/plain": [
       "Validating: 0it [00:00, ?it/s]"
      ]
     },
     "metadata": {},
     "output_type": "display_data"
    },
    {
     "data": {
      "application/vnd.jupyter.widget-view+json": {
       "model_id": "",
       "version_major": 2,
       "version_minor": 0
      },
      "text/plain": [
       "Validating: 0it [00:00, ?it/s]"
      ]
     },
     "metadata": {},
     "output_type": "display_data"
    },
    {
     "data": {
      "application/vnd.jupyter.widget-view+json": {
       "model_id": "",
       "version_major": 2,
       "version_minor": 0
      },
      "text/plain": [
       "Validating: 0it [00:00, ?it/s]"
      ]
     },
     "metadata": {},
     "output_type": "display_data"
    },
    {
     "data": {
      "application/vnd.jupyter.widget-view+json": {
       "model_id": "",
       "version_major": 2,
       "version_minor": 0
      },
      "text/plain": [
       "Validating: 0it [00:00, ?it/s]"
      ]
     },
     "metadata": {},
     "output_type": "display_data"
    },
    {
     "data": {
      "application/vnd.jupyter.widget-view+json": {
       "model_id": "",
       "version_major": 2,
       "version_minor": 0
      },
      "text/plain": [
       "Validating: 0it [00:00, ?it/s]"
      ]
     },
     "metadata": {},
     "output_type": "display_data"
    },
    {
     "data": {
      "application/vnd.jupyter.widget-view+json": {
       "model_id": "",
       "version_major": 2,
       "version_minor": 0
      },
      "text/plain": [
       "Validating: 0it [00:00, ?it/s]"
      ]
     },
     "metadata": {},
     "output_type": "display_data"
    },
    {
     "name": "stdout",
     "output_type": "stream",
     "text": [
      "Epoch    15: reducing learning rate of group 0 to 1.0000e-04.\n",
      "Epoch    15: reducing learning rate of group 0 to 1.0000e-03.\n"
     ]
    },
    {
     "data": {
      "application/vnd.jupyter.widget-view+json": {
       "model_id": "",
       "version_major": 2,
       "version_minor": 0
      },
      "text/plain": [
       "Validating: 0it [00:00, ?it/s]"
      ]
     },
     "metadata": {},
     "output_type": "display_data"
    },
    {
     "data": {
      "application/vnd.jupyter.widget-view+json": {
       "model_id": "",
       "version_major": 2,
       "version_minor": 0
      },
      "text/plain": [
       "Validating: 0it [00:00, ?it/s]"
      ]
     },
     "metadata": {},
     "output_type": "display_data"
    },
    {
     "name": "stdout",
     "output_type": "stream",
     "text": [
      "Epoch    17: reducing learning rate of group 0 to 1.0000e-05.\n",
      "Epoch    17: reducing learning rate of group 0 to 1.0000e-04.\n"
     ]
    },
    {
     "data": {
      "application/vnd.jupyter.widget-view+json": {
       "model_id": "",
       "version_major": 2,
       "version_minor": 0
      },
      "text/plain": [
       "Validating: 0it [00:00, ?it/s]"
      ]
     },
     "metadata": {},
     "output_type": "display_data"
    },
    {
     "data": {
      "application/vnd.jupyter.widget-view+json": {
       "model_id": "",
       "version_major": 2,
       "version_minor": 0
      },
      "text/plain": [
       "Validating: 0it [00:00, ?it/s]"
      ]
     },
     "metadata": {},
     "output_type": "display_data"
    },
    {
     "data": {
      "application/vnd.jupyter.widget-view+json": {
       "model_id": "",
       "version_major": 2,
       "version_minor": 0
      },
      "text/plain": [
       "Validating: 0it [00:00, ?it/s]"
      ]
     },
     "metadata": {},
     "output_type": "display_data"
    }
   ],
   "source": [
    "trainer.fit(model)"
   ]
  },
  {
   "cell_type": "code",
   "execution_count": 9,
   "id": "202ef6b0-a56d-41c3-a259-403dee99c730",
   "metadata": {},
   "outputs": [
    {
     "data": {
      "application/vnd.jupyter.widget-view+json": {
       "model_id": "5e83ebf56d9b4ecdb143e6c265357389",
       "version_major": 2,
       "version_minor": 0
      },
      "text/plain": [
       "  0%|          | 0/187 [00:00<?, ?it/s]"
      ]
     },
     "metadata": {},
     "output_type": "display_data"
    },
    {
     "name": "stderr",
     "output_type": "stream",
     "text": [
      "/collie/collie/metrics/sequential.py:152: UserWarning: To copy construct from a tensor, it is recommended to use sourceTensor.clone().detach() or sourceTensor.clone().detach().requires_grad_(True), rather than torch.tensor(sourceTensor).\n",
      "  device=device,\n"
     ]
    },
    {
     "data": {
      "text/plain": [
       "[0.04180386976554224, 0.05749833786720822]"
      ]
     },
     "execution_count": 9,
     "metadata": {},
     "output_type": "execute_result"
    }
   ],
   "source": [
    "from collie.metrics import sequential_evaluate_in_batches, sequential_mapk, sequential_mrr\n",
    "\n",
    "\n",
    "sequential_evaluate_in_batches(metric_list=[sequential_mapk, sequential_mrr],\n",
    "                               test_interactions=val,\n",
    "                               model=model,\n",
    "                               k=10,\n",
    "                               verbose=True)"
   ]
  },
  {
   "cell_type": "markdown",
   "id": "06c80784-4278-4651-a78f-96fdf08a8b52",
   "metadata": {},
   "source": [
    "----- "
   ]
  },
  {
   "cell_type": "code",
   "execution_count": 10,
   "id": "39958fee-2534-4627-9492-71df248ceab2",
   "metadata": {},
   "outputs": [
    {
     "data": {
      "text/plain": [
       "SequentialCNNModel(\n",
       "  (item_embeddings): ScaledEmbedding(1675, 10, padding_idx=1674)\n",
       "  (item_biases): ZeroEmbedding(1675, 1, padding_idx=1674)\n",
       "  (cnn_0): Conv2d(10, 10, kernel_size=(3, 1), stride=(1, 1))\n",
       ")"
      ]
     },
     "execution_count": 10,
     "metadata": {},
     "output_type": "execute_result"
    }
   ],
   "source": [
    "from collie.model.sequential_cnn import SequentialCNNModel\n",
    "\n",
    "\n",
    "model = SequentialCNNModel(train=train,\n",
    "                           val=val,\n",
    "                           embedding_dim=10,\n",
    "                           residual_connections=True,\n",
    "                           lr=1e-2,\n",
    "                           bias_lr=1e-1,\n",
    "                           optimizer='adam',\n",
    "                           bias_optimizer='sgd')\n",
    "\n",
    "\n",
    "model"
   ]
  },
  {
   "cell_type": "code",
   "execution_count": 11,
   "id": "d09c577b-9f6b-48c8-863b-a0de52fb30bf",
   "metadata": {},
   "outputs": [
    {
     "data": {
      "application/vnd.jupyter.widget-view+json": {
       "model_id": "31b64ef8e4c346feb927216ce625b2b1",
       "version_major": 2,
       "version_minor": 0
      },
      "text/plain": [
       "  0%|          | 0/187 [00:00<?, ?it/s]"
      ]
     },
     "metadata": {},
     "output_type": "display_data"
    },
    {
     "data": {
      "text/plain": [
       "[0.0020190127332984473, 0.005169964811482091]"
      ]
     },
     "execution_count": 11,
     "metadata": {},
     "output_type": "execute_result"
    }
   ],
   "source": [
    "from collie.metrics import sequential_evaluate_in_batches, sequential_mapk, sequential_mrr\n",
    "\n",
    "\n",
    "sequential_evaluate_in_batches(metric_list=[sequential_mapk, sequential_mrr],\n",
    "                               test_interactions=val,\n",
    "                               model=model,\n",
    "                               k=10,\n",
    "                               verbose=True)"
   ]
  },
  {
   "cell_type": "markdown",
   "id": "ec96d44e-d9c2-4063-b4a5-33717f67e554",
   "metadata": {},
   "source": [
    "----- "
   ]
  }
 ],
 "metadata": {
  "kernelspec": {
   "display_name": "Python 3",
   "language": "python",
   "name": "python3"
  },
  "language_info": {
   "codemirror_mode": {
    "name": "ipython",
    "version": 3
   },
   "file_extension": ".py",
   "mimetype": "text/x-python",
   "name": "python",
   "nbconvert_exporter": "python",
   "pygments_lexer": "ipython3",
   "version": "3.7.10"
  }
 },
 "nbformat": 4,
 "nbformat_minor": 5
}
