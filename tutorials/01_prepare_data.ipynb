{
 "cells": [
  {
   "cell_type": "code",
   "execution_count": null,
   "metadata": {},
   "outputs": [],
   "source": [
    "# for Collab notebooks, we will start by installing the ``collie_recs`` library\n",
    "!pip install collie_recs --quiet"
   ]
  },
  {
   "cell_type": "code",
   "execution_count": 1,
   "metadata": {
    "tags": []
   },
   "outputs": [
    {
     "name": "stdout",
     "output_type": "stream",
     "text": [
      "env: DATA_PATH=data/\n"
     ]
    }
   ],
   "source": [
    "%reload_ext autoreload\n",
    "%autoreload 2\n",
    "%matplotlib inline\n",
    "\n",
    "%env DATA_PATH data/"
   ]
  },
  {
   "cell_type": "markdown",
   "metadata": {},
   "source": [
    "# Data Preparation "
   ]
  },
  {
   "cell_type": "code",
   "execution_count": 2,
   "metadata": {},
   "outputs": [],
   "source": [
    "import os\n",
    "\n",
    "import joblib\n",
    "\n",
    "from collie_recs.cross_validation import stratified_split\n",
    "from collie_recs.interactions import Interactions\n",
    "from collie_recs.movielens import read_movielens_df\n",
    "from collie_recs.utils import convert_to_implicit, remove_users_with_fewer_than_n_interactions"
   ]
  },
  {
   "cell_type": "markdown",
   "metadata": {},
   "source": [
    "### Intuition \n",
    "\n",
    "Before we can start building a deep learning recommendation algorithm, we will need data! \n",
    "\n",
    "The core of any Collie model is interactions data, which is a matrix where the **rows** are the users and the **columns** are the items. Since models in Collie are *implicit* recommendation models, the **values** of the matrix will be ``0`` if a user has not interacted with an item and ``1`` if they have. \n",
    "\n",
    "In most recommendation scenarios, there are large numbers of users and items, but most users will have interacted with only a small percentage of these items. In an effort to make optimal use of the available memory, we will use a **sparse** matrix to represent this data. \n",
    "\n",
    "Collie contains a variety of recommendation models based around collaborative filtering, a technique behind recommendations of the \"users who viewed this item also viewed these others\" variety. The tutorial series will walk you through building a simple movie recommender before exploring different improvements Collie offers. Now, on to films! \n",
    "\n",
    "### MovieLens 100K \n",
    "\n",
    "MovieLens 100K<sup>1</sup> is a benchmark dataset for recommendation algorithms showing a subset of users' viewing preferences for a subset of films. There are **942 users** and **1682 items** in the dataset, with **100,000** interactions total. Though this dataset can easily fit in memory without having to be represented with a sparse matrix, we will still go ahead and treat it like we would a larger dataset. MovieLens 100K is a great choice for quick interactive training on a CPU. If you have a GPU available, give MovieLens 1M or MovieLens 10M a try - Collie works seamlessly on either! \n",
    "\n",
    "Another important caveat is that MovieLens 100K data contains explicit ratings, meaning instead of a ``0``/``1`` system for the values of our interaction matrix, all users are given the opportunity to rate a movie on a 5-point scale. So, to start this toy-example, we'll treat each 4 or 5 rating as a ``1`` and everything else as a ``0``. \n",
    "\n",
    "<font size=\"1\"><sup>1</sup> <span id=\"fn1\">Herlocker, J., Konstan, J., Borchers, A., Riedl, J.. An Algorithmic\n",
    "Framework for Performing Collaborative Filtering. Proceedings of the\n",
    "1999 Conference on Research and Development in Information\n",
    "Retrieval. Aug. 1999.</span></font>"
   ]
  },
  {
   "cell_type": "code",
   "execution_count": 3,
   "metadata": {},
   "outputs": [
    {
     "name": "stdout",
     "output_type": "stream",
     "text": [
      "Making data path at ``data``...\n",
      "Downloading MovieLens 100K data...\n"
     ]
    },
    {
     "data": {
      "text/html": [
       "<div>\n",
       "<style scoped>\n",
       "    .dataframe tbody tr th:only-of-type {\n",
       "        vertical-align: middle;\n",
       "    }\n",
       "\n",
       "    .dataframe tbody tr th {\n",
       "        vertical-align: top;\n",
       "    }\n",
       "\n",
       "    .dataframe thead th {\n",
       "        text-align: right;\n",
       "    }\n",
       "</style>\n",
       "<table border=\"1\" class=\"dataframe\">\n",
       "  <thead>\n",
       "    <tr style=\"text-align: right;\">\n",
       "      <th></th>\n",
       "      <th>user_id</th>\n",
       "      <th>item_id</th>\n",
       "      <th>rating</th>\n",
       "      <th>timestamp</th>\n",
       "    </tr>\n",
       "  </thead>\n",
       "  <tbody>\n",
       "    <tr>\n",
       "      <th>0</th>\n",
       "      <td>195</td>\n",
       "      <td>241</td>\n",
       "      <td>3</td>\n",
       "      <td>881250949</td>\n",
       "    </tr>\n",
       "    <tr>\n",
       "      <th>1</th>\n",
       "      <td>185</td>\n",
       "      <td>301</td>\n",
       "      <td>3</td>\n",
       "      <td>891717742</td>\n",
       "    </tr>\n",
       "    <tr>\n",
       "      <th>2</th>\n",
       "      <td>21</td>\n",
       "      <td>376</td>\n",
       "      <td>1</td>\n",
       "      <td>878887116</td>\n",
       "    </tr>\n",
       "    <tr>\n",
       "      <th>3</th>\n",
       "      <td>243</td>\n",
       "      <td>50</td>\n",
       "      <td>2</td>\n",
       "      <td>880606923</td>\n",
       "    </tr>\n",
       "    <tr>\n",
       "      <th>4</th>\n",
       "      <td>165</td>\n",
       "      <td>345</td>\n",
       "      <td>1</td>\n",
       "      <td>886397596</td>\n",
       "    </tr>\n",
       "  </tbody>\n",
       "</table>\n",
       "</div>"
      ],
      "text/plain": [
       "   user_id  item_id  rating  timestamp\n",
       "0      195      241       3  881250949\n",
       "1      185      301       3  891717742\n",
       "2       21      376       1  878887116\n",
       "3      243       50       2  880606923\n",
       "4      165      345       1  886397596"
      ]
     },
     "execution_count": 3,
     "metadata": {},
     "output_type": "execute_result"
    }
   ],
   "source": [
    "# Collie offers some helper functions to pull in + parse MovieLens 100K data.\n",
    "# We'll shift our user and item IDs to start at 0 rather than 1 when we read the data here\n",
    "df = read_movielens_df(decrement_ids=True)\n",
    "\n",
    "\n",
    "df.head()"
   ]
  },
  {
   "cell_type": "code",
   "execution_count": 4,
   "metadata": {},
   "outputs": [],
   "source": [
    "# convert the explicit data to implicit by only keeping interactions with a rating ``>= 4``\n",
    "implicit_df = convert_to_implicit(df, min_rating_to_keep=4)\n",
    "\n",
    "# we'll also go ahead and remove users with fewer than 3 interactions so all remaining users\n",
    "# have viewed enough films to provide good signal that a recommendations model can learn from\n",
    "implicit_df = remove_users_with_fewer_than_n_interactions(implicit_df, min_num_of_interactions=3)"
   ]
  },
  {
   "cell_type": "code",
   "execution_count": 5,
   "metadata": {},
   "outputs": [
    {
     "data": {
      "text/html": [
       "<div>\n",
       "<style scoped>\n",
       "    .dataframe tbody tr th:only-of-type {\n",
       "        vertical-align: middle;\n",
       "    }\n",
       "\n",
       "    .dataframe tbody tr th {\n",
       "        vertical-align: top;\n",
       "    }\n",
       "\n",
       "    .dataframe thead th {\n",
       "        text-align: right;\n",
       "    }\n",
       "</style>\n",
       "<table border=\"1\" class=\"dataframe\">\n",
       "  <thead>\n",
       "    <tr style=\"text-align: right;\">\n",
       "      <th></th>\n",
       "      <th>user_id</th>\n",
       "      <th>item_id</th>\n",
       "      <th>rating</th>\n",
       "      <th>timestamp</th>\n",
       "    </tr>\n",
       "  </thead>\n",
       "  <tbody>\n",
       "    <tr>\n",
       "      <th>0</th>\n",
       "      <td>297</td>\n",
       "      <td>473</td>\n",
       "      <td>1</td>\n",
       "      <td>884182806</td>\n",
       "    </tr>\n",
       "    <tr>\n",
       "      <th>1</th>\n",
       "      <td>252</td>\n",
       "      <td>464</td>\n",
       "      <td>1</td>\n",
       "      <td>891628467</td>\n",
       "    </tr>\n",
       "    <tr>\n",
       "      <th>2</th>\n",
       "      <td>285</td>\n",
       "      <td>1013</td>\n",
       "      <td>1</td>\n",
       "      <td>879781125</td>\n",
       "    </tr>\n",
       "    <tr>\n",
       "      <th>3</th>\n",
       "      <td>199</td>\n",
       "      <td>221</td>\n",
       "      <td>1</td>\n",
       "      <td>876042340</td>\n",
       "    </tr>\n",
       "    <tr>\n",
       "      <th>4</th>\n",
       "      <td>121</td>\n",
       "      <td>386</td>\n",
       "      <td>1</td>\n",
       "      <td>879270459</td>\n",
       "    </tr>\n",
       "  </tbody>\n",
       "</table>\n",
       "</div>"
      ],
      "text/plain": [
       "   user_id  item_id  rating  timestamp\n",
       "0      297      473       1  884182806\n",
       "1      252      464       1  891628467\n",
       "2      285     1013       1  879781125\n",
       "3      199      221       1  876042340\n",
       "4      121      386       1  879270459"
      ]
     },
     "execution_count": 5,
     "metadata": {},
     "output_type": "execute_result"
    }
   ],
   "source": [
    "# we now have a small, clean subset of data ready to train!\n",
    "implicit_df.head()"
   ]
  },
  {
   "cell_type": "markdown",
   "metadata": {},
   "source": [
    "## ``Interactions`` \n",
    "While we have chosen to represent the data as a ``pandas.DataFrame`` for easy viewing now, Collie uses a custom ``torch.utils.data.Dataset`` called ``Interactions``. This class stores a sparse representation of the data and offers some handy benefits, including: \n",
    "\n",
    "* The ability to index the data with a ``__getitem__`` method \n",
    "* The ability to sample many negative items (we will get to this later!) \n",
    "* Nice quality checks to ensure data is free of errors before model training \n",
    "\n",
    "Instantiating the object is simple! "
   ]
  },
  {
   "cell_type": "code",
   "execution_count": 6,
   "metadata": {},
   "outputs": [
    {
     "name": "stdout",
     "output_type": "stream",
     "text": [
      "Checking ``num_negative_samples`` is valid...\n",
      "Maximum number of items a user has interacted with: 378\n",
      "Generating positive items set...\n"
     ]
    },
    {
     "data": {
      "text/plain": [
       "Interactions object with 55375 interactions between 943 users and 1674 items, returning 10 negative samples per interaction."
      ]
     },
     "execution_count": 6,
     "metadata": {},
     "output_type": "execute_result"
    }
   ],
   "source": [
    "# since some users only rated movies below a 4, they will show up with no ratings in\n",
    "# the ``Interactions`` dataset, which will throw a ``ValueError``. Since we understand why\n",
    "# this is happening and know it will not interfere with model results, we can go ahead\n",
    "# and set ``allow_missing_ids`` to ``True``.\n",
    "# Alternatively, we can renumber the user and items column with something like\n",
    "# ``implicit_df[col].astype('category').cat.codes``\n",
    "interactions = Interactions(\n",
    "    users=implicit_df['user_id'],\n",
    "    items=implicit_df['item_id'],\n",
    "    ratings=implicit_df['rating'],\n",
    "    allow_missing_ids=True,\n",
    ")\n",
    "\n",
    "\n",
    "interactions"
   ]
  },
  {
   "cell_type": "markdown",
   "metadata": {},
   "source": [
    "## Data Splits \n",
    "With an ``Interactions`` dataset, Collie supports two types of data splits. \n",
    "\n",
    "1. **Random split**: This code randomly assigns an interaction to a ``train``, ``validation``, or ``test`` dataset. While this is significantly faster to perform than a stratified split, it does not guarantee any balance, meaning a scenario where a user will have no interactions in the ``train`` dataset and all in the ``test`` dataset is possible. \n",
    "2. **Stratified split**: While this code runs slower than a random split, this guarantees that each user will be represented in the ``train``, ``validation``, and ``test`` dataset. This is by far the most fair way to train and evaluate a recommendation model. \n",
    "\n",
    "Since this is a small dataset and we have time, we will go ahead and use ``stratified_split``. If you're short on time, a ``random_split`` can easily be swapped in, since both functions share the same API! "
   ]
  },
  {
   "cell_type": "code",
   "execution_count": 7,
   "metadata": {},
   "outputs": [
    {
     "name": "stdout",
     "output_type": "stream",
     "text": [
      "Generating positive items set...\n",
      "Generating positive items set...\n"
     ]
    },
    {
     "data": {
      "text/plain": [
       "(Interactions object with 49426 interactions between 943 users and 1674 items, returning 10 negative samples per interaction.,\n",
       " Interactions object with 5949 interactions between 943 users and 1674 items, returning 10 negative samples per interaction.)"
      ]
     },
     "execution_count": 7,
     "metadata": {},
     "output_type": "execute_result"
    }
   ],
   "source": [
    "train_interactions, val_interactions = stratified_split(interactions, test_p=0.1, seed=42)\n",
    "\n",
    "\n",
    "train_interactions, val_interactions"
   ]
  },
  {
   "cell_type": "code",
   "execution_count": 8,
   "metadata": {},
   "outputs": [
    {
     "data": {
      "text/plain": [
       "['data/val_interactions.pkl']"
      ]
     },
     "execution_count": 8,
     "metadata": {},
     "output_type": "execute_result"
    }
   ],
   "source": [
    "# now we're going to dump these to files and move on to the next notebook!\n",
    "joblib.dump(train_interactions, os.path.join(os.environ.get('DATA_PATH', 'data/'), 'train_interactions.pkl'))\n",
    "joblib.dump(val_interactions, os.path.join(os.environ.get('DATA_PATH', 'data/'), 'val_interactions.pkl'))"
   ]
  },
  {
   "cell_type": "markdown",
   "metadata": {},
   "source": [
    "Our data is ready! In the next notebook, we will train our first Collie model! "
   ]
  },
  {
   "cell_type": "markdown",
   "metadata": {},
   "source": [
    "----- "
   ]
  }
 ],
 "metadata": {
  "kernelspec": {
   "display_name": "Python 3",
   "language": "python",
   "name": "python3"
  },
  "language_info": {
   "codemirror_mode": {
    "name": "ipython",
    "version": 3
   },
   "file_extension": ".py",
   "mimetype": "text/x-python",
   "name": "python",
   "nbconvert_exporter": "python",
   "pygments_lexer": "ipython3",
   "version": "3.8.8"
  }
 },
 "nbformat": 4,
 "nbformat_minor": 4
}
